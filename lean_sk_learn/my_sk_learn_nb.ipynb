{
 "cells": [
  {
   "attachments": {},
   "cell_type": "markdown",
   "metadata": {},
   "source": [
    "Simple and efficient tool for data mining and data analysis"
   ]
  },
  {
   "cell_type": "code",
   "execution_count": 1,
   "metadata": {},
   "outputs": [],
   "source": [
    "import pandas as pd # dataframes\n",
    "from pyspark.sql import SparkSession\n",
    "from pyspark.sql.functions import *\n",
    "import numpy as np\n",
    "from pyspark.sql.types import *\n",
    "import seaborn as sns # sits on top of Matplot\n",
    "import matplotlib.pyplot as plt\n",
    "from sklearn.ensemble import RandomForestClassifier\n",
    "from sklearn.svm import SVC # support vector classifiers\n",
    "from sklearn import svm\n",
    "from sklearn.neural_network import  MLPClassifier\n",
    "from sklearn.metrics import confusion_matrix, classification_report, accuracy_score\n",
    "from sklearn.preprocessing import StandardScaler, LabelEncoder\n",
    "from sklearn.model_selection import train_test_split\n",
    "# we need this to visualize the data in jupyter notebooks only\n",
    "%matplotlib inline "
   ]
  },
  {
   "cell_type": "code",
   "execution_count": 2,
   "metadata": {},
   "outputs": [
    {
     "name": "stderr",
     "output_type": "stream",
     "text": [
      "23/02/12 11:10:34 WARN Utils: Your hostname, koshurlinux resolves to a loopback address: 127.0.1.1; using 192.168.1.11 instead (on interface enp8s0)\n",
      "23/02/12 11:10:34 WARN Utils: Set SPARK_LOCAL_IP if you need to bind to another address\n",
      "WARNING: An illegal reflective access operation has occurred\n",
      "WARNING: Illegal reflective access by org.apache.spark.unsafe.Platform (file:/home/harsh/anaconda3/lib/python3.9/site-packages/pyspark/jars/spark-unsafe_2.12-3.2.1.jar) to constructor java.nio.DirectByteBuffer(long,int)\n",
      "WARNING: Please consider reporting this to the maintainers of org.apache.spark.unsafe.Platform\n",
      "WARNING: Use --illegal-access=warn to enable warnings of further illegal reflective access operations\n",
      "WARNING: All illegal access operations will be denied in a future release\n",
      "Using Spark's default log4j profile: org/apache/spark/log4j-defaults.properties\n",
      "Setting default log level to \"WARN\".\n",
      "To adjust logging level use sc.setLogLevel(newLevel). For SparkR, use setLogLevel(newLevel).\n",
      "23/02/12 11:10:34 WARN NativeCodeLoader: Unable to load native-hadoop library for your platform... using builtin-java classes where applicable\n"
     ]
    }
   ],
   "source": [
    "spark = SparkSession.builder.getOrCreate()\n",
    "spark.conf.set('spark.sql.repl.eagerEval.enabled', True)"
   ]
  },
  {
   "attachments": {},
   "cell_type": "markdown",
   "metadata": {},
   "source": [
    "Read and process test data"
   ]
  },
  {
   "cell_type": "code",
   "execution_count": 3,
   "metadata": {},
   "outputs": [
    {
     "data": {
      "text/html": [
       "<table border='1'>\n",
       "<tr><th>summary</th><th>type</th><th>fixed_acidity</th><th>volatile_acidity</th><th>citric_acid</th><th>residual_sugar</th><th>chlorides</th><th>free_sulfur_dioxide</th><th>total_sulfur_dioxide</th><th>density</th><th>ph</th><th>sulphates</th><th>alcohol</th><th>quality</th></tr>\n",
       "<tr><td>count</td><td>6497</td><td>6497</td><td>6497</td><td>6497</td><td>6497</td><td>6497</td><td>6497</td><td>6497</td><td>6497</td><td>6497</td><td>6497</td><td>6497</td><td>6497</td></tr>\n",
       "<tr><td>mean</td><td>null</td><td>7.205471759872178</td><td>0.3392727413206572</td><td>0.31857472737341985</td><td>5.442650450364028</td><td>0.05602431903715517</td><td>30.525319378174544</td><td>115.7445744189626</td><td>0.9946966336675106</td><td>3.2139372031505573</td><td>0.5308881008374575</td><td>10.491800813027597</td><td>0.19655225488687086</td></tr>\n",
       "<tr><td>stddev</td><td>null</td><td>1.3262801689088408</td><td>0.16497832448626587</td><td>0.14539260301179405</td><td>4.7583509459002</td><td>0.035044425848902834</td><td>17.749399772002516</td><td>56.521854522630186</td><td>0.002998673927059...</td><td>0.20033749436879011</td><td>0.14935079953305228</td><td>1.1927117488301962</td><td>0.39742140889536737</td></tr>\n",
       "<tr><td>min</td><td>red</td><td>0.0</td><td>0.0</td><td>0.0</td><td>0.0</td><td>0.0</td><td>1.0</td><td>10</td><td>0.98711</td><td>0.0</td><td>0.0</td><td>8.0</td><td>0</td></tr>\n",
       "<tr><td>max</td><td>white</td><td>15.9</td><td>1.58</td><td>1.66</td><td>65.8</td><td>0.611</td><td>289.0</td><td>99</td><td>1.03898</td><td>4.01</td><td>2.0</td><td>14.9</td><td>1</td></tr>\n",
       "</table>\n"
      ],
      "text/plain": [
       "+-------+-----+------------------+-------------------+-------------------+-----------------+--------------------+-------------------+--------------------+--------------------+-------------------+-------------------+------------------+-------------------+\n",
       "|summary| type|     fixed_acidity|   volatile_acidity|        citric_acid|   residual_sugar|           chlorides|free_sulfur_dioxide|total_sulfur_dioxide|             density|                 ph|          sulphates|           alcohol|            quality|\n",
       "+-------+-----+------------------+-------------------+-------------------+-----------------+--------------------+-------------------+--------------------+--------------------+-------------------+-------------------+------------------+-------------------+\n",
       "|  count| 6497|              6497|               6497|               6497|             6497|                6497|               6497|                6497|                6497|               6497|               6497|              6497|               6497|\n",
       "|   mean| null| 7.205471759872178| 0.3392727413206572|0.31857472737341985|5.442650450364028| 0.05602431903715517| 30.525319378174544|   115.7445744189626|  0.9946966336675106| 3.2139372031505573| 0.5308881008374575|10.491800813027597|0.19655225488687086|\n",
       "| stddev| null|1.3262801689088408|0.16497832448626587|0.14539260301179405|  4.7583509459002|0.035044425848902834| 17.749399772002516|  56.521854522630186|0.002998673927059...|0.20033749436879011|0.14935079953305228|1.1927117488301962|0.39742140889536737|\n",
       "|    min|  red|               0.0|                0.0|                0.0|              0.0|                 0.0|                1.0|                  10|             0.98711|                0.0|                0.0|               8.0|                  0|\n",
       "|    max|white|              15.9|               1.58|               1.66|             65.8|               0.611|              289.0|                  99|             1.03898|               4.01|                2.0|              14.9|                  1|\n",
       "+-------+-----+------------------+-------------------+-------------------+-----------------+--------------------+-------------------+--------------------+--------------------+-------------------+-------------------+------------------+-------------------+"
      ]
     },
     "metadata": {},
     "output_type": "display_data"
    }
   ],
   "source": [
    "my_wine_data = spark.read.option(\"header\",True).csv(\"./winequalityN.csv\")\n",
    "# my_wine_data.show()\n",
    "# data processing\n",
    "\n",
    "\n",
    "for column in my_wine_data.columns:\n",
    "    new_col = str(column).lower().strip().replace(\" \", \"_\")\n",
    "    my_wine_data = my_wine_data.withColumnRenamed(column, new_col)\n",
    "\n",
    "\n",
    "my_wine_data = my_wine_data.withColumn(\"type\", col(\"type\").cast(StringType()))\n",
    "my_wine_data = my_wine_data.withColumn(\"fixed_acidity\", col(\"fixed_acidity\").cast(FloatType()))\n",
    "my_wine_data = my_wine_data.withColumn(\"volatile_acidity\", col(\"volatile_acidity\").cast(FloatType()))\n",
    "my_wine_data = my_wine_data.withColumn(\"citric_acid\", col(\"citric_acid\").cast(FloatType()))\n",
    "my_wine_data = my_wine_data.withColumn(\"residual_sugar\", col(\"residual_sugar\").cast(FloatType()))\n",
    "my_wine_data = my_wine_data.withColumn(\"chlorides\", col(\"chlorides\").cast(FloatType()))\n",
    "my_wine_data = my_wine_data.withColumn(\"free_sulfur_dioxide\", col(\"free_sulfur_dioxide\").cast(FloatType()))\n",
    "my_wine_data = my_wine_data.withColumn(\"density\", col(\"density\").cast(FloatType()))\n",
    "my_wine_data = my_wine_data.withColumn(\"ph\", col(\"ph\").cast(FloatType()))\n",
    "my_wine_data = my_wine_data.withColumn(\"sulphates\", col(\"sulphates\").cast(FloatType()))\n",
    "my_wine_data = my_wine_data.withColumn(\"alcohol\", col(\"alcohol\").cast(FloatType()))\n",
    "my_wine_data = my_wine_data.withColumn(\"quality\", col(\"quality\").cast(IntegerType()))\n",
    "my_wine_data = my_wine_data.na.fill(value=0)\n",
    "\n",
    "\n",
    "my_wine_data = my_wine_data.withColumn(\"quality\", when(col(\"quality\") >= 7, 1).otherwise(0))\n",
    "\n",
    "\n",
    "\n",
    "display(my_wine_data.describe())"
   ]
  },
  {
   "cell_type": "code",
   "execution_count": 4,
   "metadata": {},
   "outputs": [
    {
     "name": "stdout",
     "output_type": "stream",
     "text": [
      "+-------+-----+\n",
      "|quality|count|\n",
      "+-------+-----+\n",
      "|      1| 1277|\n",
      "|      0| 5220|\n",
      "+-------+-----+\n",
      "\n"
     ]
    }
   ],
   "source": [
    "# my_pandas_df_quality = my_wine_data.select(\"quality\").toPandas()\n",
    "# my_pandas_df_quality[\"quality\"].value_counts()\n",
    "\n",
    "\n",
    "my_wine_data.select(\"quality\").groupBy(\"quality\").count().show()\n",
    "# type(my_pandas_df_quality[\"quality\"])"
   ]
  },
  {
   "attachments": {},
   "cell_type": "markdown",
   "metadata": {},
   "source": [
    "Plot a count plot"
   ]
  },
  {
   "cell_type": "code",
   "execution_count": 5,
   "metadata": {},
   "outputs": [
    {
     "data": {
      "text/plain": [
       "<AxesSubplot:ylabel='count'>"
      ]
     },
     "execution_count": 5,
     "metadata": {},
     "output_type": "execute_result"
    },
    {
     "data": {
      "image/png": "[encoded data removed]",
      "text/plain": [
       "<Figure size 640x480 with 1 Axes>"
      ]
     },
     "metadata": {},
     "output_type": "display_data"
    }
   ],
   "source": [
    "sns.countplot(x=[my_qual[\"quality\"] for my_qual in my_wine_data.select(\"quality\").collect()])"
   ]
  },
  {
   "attachments": {},
   "cell_type": "markdown",
   "metadata": {},
   "source": [
    "Separate our dataset"
   ]
  },
  {
   "cell_type": "code",
   "execution_count": 6,
   "metadata": {},
   "outputs": [],
   "source": [
    "my_wine_features_x = my_wine_data.drop(\"quality\", \"type\")\n",
    "my_wine_quality_y = my_wine_data.select(\"quality\")"
   ]
  },
  {
   "attachments": {},
   "cell_type": "markdown",
   "metadata": {},
   "source": [
    "Split the data into train and test"
   ]
  },
  {
   "cell_type": "code",
   "execution_count": 7,
   "metadata": {},
   "outputs": [],
   "source": [
    "X_train, X_test, y_train, y_test = train_test_split(my_wine_features_x.collect(), my_wine_quality_y.collect(), test_size=0.2, random_state=42) # random state controlls shuffling"
   ]
  },
  {
   "attachments": {},
   "cell_type": "markdown",
   "metadata": {},
   "source": [
    "Feature Scaling"
   ]
  },
  {
   "cell_type": "code",
   "execution_count": 8,
   "metadata": {},
   "outputs": [],
   "source": [
    "sc = StandardScaler()\n",
    "X_train = sc.fit_transform(X_train)\n",
    "X_test = sc.fit_transform(X_test)"
   ]
  },
  {
   "attachments": {},
   "cell_type": "markdown",
   "metadata": {},
   "source": [
    "**Random Forest Classifier\n",
    "**"
   ]
  },
  {
   "cell_type": "code",
   "execution_count": 9,
   "metadata": {},
   "outputs": [
    {
     "name": "stderr",
     "output_type": "stream",
     "text": [
      "/tmp/ipykernel_14223/271586264.py:2: DataConversionWarning: A column-vector y was passed when a 1d array was expected. Please change the shape of y to (n_samples,), for example using ravel().\n",
      "  rfc.fit(X_train, y_train)\n"
     ]
    },
    {
     "name": "stdout",
     "output_type": "stream",
     "text": [
      "              precision    recall  f1-score   support\n",
      "\n",
      "           0       0.88      0.97      0.92      1047\n",
      "           1       0.77      0.45      0.57       253\n",
      "\n",
      "    accuracy                           0.87      1300\n",
      "   macro avg       0.82      0.71      0.74      1300\n",
      "weighted avg       0.86      0.87      0.85      1300\n",
      "\n"
     ]
    }
   ],
   "source": [
    "rfc = RandomForestClassifier(n_estimators=200)\n",
    "rfc.fit(X_train, y_train)\n",
    "pred_rfc = rfc.predict(X_test)\n",
    "\n",
    "# print(X_train[:20])\n",
    "# print(pred_rfc)\n",
    "\n",
    "\n",
    "print(classification_report(y_test, pred_rfc))"
   ]
  },
  {
   "attachments": {},
   "cell_type": "markdown",
   "metadata": {},
   "source": [
    "Testing Random Forest Algorithm"
   ]
  },
  {
   "cell_type": "code",
   "execution_count": 10,
   "metadata": {},
   "outputs": [
    {
     "name": "stdout",
     "output_type": "stream",
     "text": [
      "              precision    recall  f1-score   support\n",
      "\n",
      "           0       0.88      0.97      0.92      1047\n",
      "           1       0.77      0.45      0.57       253\n",
      "\n",
      "    accuracy                           0.87      1300\n",
      "   macro avg       0.82      0.71      0.74      1300\n",
      "weighted avg       0.86      0.87      0.85      1300\n",
      "\n",
      "[[1013   34]\n",
      " [ 140  113]]\n",
      "0.8661538461538462\n"
     ]
    }
   ],
   "source": [
    "print(classification_report(y_test, pred_rfc))\n",
    "print(confusion_matrix(y_test, pred_rfc))\n",
    "print(accuracy_score(y_test, pred_rfc))"
   ]
  },
  {
   "attachments": {},
   "cell_type": "markdown",
   "metadata": {},
   "source": [
    "Random Forst Classifier doent have good performance"
   ]
  },
  {
   "attachments": {},
   "cell_type": "markdown",
   "metadata": {},
   "source": [
    "Support Vector Model"
   ]
  },
  {
   "cell_type": "code",
   "execution_count": 11,
   "metadata": {},
   "outputs": [
    {
     "name": "stderr",
     "output_type": "stream",
     "text": [
      "/home/harsh/anaconda3/lib/python3.9/site-packages/sklearn/utils/validation.py:993: DataConversionWarning: A column-vector y was passed when a 1d array was expected. Please change the shape of y to (n_samples, ), for example using ravel().\n",
      "  y = column_or_1d(y, warn=True)\n"
     ]
    }
   ],
   "source": [
    "clf = svm.SVC()\n",
    "clf.fit(X_train, y_train)\n",
    "pred_clf = clf.predict(X_test)\n"
   ]
  },
  {
   "attachments": {},
   "cell_type": "markdown",
   "metadata": {},
   "source": [
    "Testing SVM"
   ]
  },
  {
   "cell_type": "code",
   "execution_count": 12,
   "metadata": {},
   "outputs": [
    {
     "name": "stdout",
     "output_type": "stream",
     "text": [
      "              precision    recall  f1-score   support\n",
      "\n",
      "           0       0.85      0.97      0.90      1047\n",
      "           1       0.66      0.28      0.39       253\n",
      "\n",
      "    accuracy                           0.83      1300\n",
      "   macro avg       0.75      0.62      0.65      1300\n",
      "weighted avg       0.81      0.83      0.80      1300\n",
      "\n",
      "[[1011   36]\n",
      " [ 183   70]]\n",
      "0.8315384615384616\n"
     ]
    }
   ],
   "source": [
    "print(classification_report(y_test, pred_clf))\n",
    "print(confusion_matrix(y_test, pred_clf))\n",
    "print(accuracy_score(y_test, pred_clf))"
   ]
  },
  {
   "attachments": {},
   "cell_type": "markdown",
   "metadata": {},
   "source": [
    "Neural Networks (Multi Layered Percepetron Classifier)"
   ]
  },
  {
   "cell_type": "code",
   "execution_count": 13,
   "metadata": {},
   "outputs": [
    {
     "name": "stderr",
     "output_type": "stream",
     "text": [
      "/home/harsh/anaconda3/lib/python3.9/site-packages/sklearn/neural_network/_multilayer_perceptron.py:1109: DataConversionWarning: A column-vector y was passed when a 1d array was expected. Please change the shape of y to (n_samples, ), for example using ravel().\n",
      "  y = column_or_1d(y, warn=True)\n"
     ]
    }
   ],
   "source": [
    "mlpc = MLPClassifier(hidden_layer_sizes=(11,11,11), max_iter=500)\n",
    "mlpc.fit(X_train, y_train)\n",
    "\n",
    "pred_mlpc = mlpc.predict(X_test)"
   ]
  },
  {
   "cell_type": "code",
   "execution_count": 14,
   "metadata": {},
   "outputs": [
    {
     "name": "stdout",
     "output_type": "stream",
     "text": [
      "              precision    recall  f1-score   support\n",
      "\n",
      "           0       0.87      0.93      0.90      1047\n",
      "           1       0.59      0.44      0.50       253\n",
      "\n",
      "    accuracy                           0.83      1300\n",
      "   macro avg       0.73      0.68      0.70      1300\n",
      "weighted avg       0.82      0.83      0.82      1300\n",
      "\n",
      "[[970  77]\n",
      " [142 111]]\n",
      "0.8315384615384616\n"
     ]
    }
   ],
   "source": [
    "print(classification_report(y_test, pred_mlpc))\n",
    "print(confusion_matrix(y_test, pred_mlpc))\n",
    "print(accuracy_score(y_test, pred_mlpc))"
   ]
  }
 ],
 "metadata": {
  "kernelspec": {
   "display_name": "base",
   "language": "python",
   "name": "python3"
  },
  "language_info": {
   "codemirror_mode": {
    "name": "ipython",
    "version": 3
   },
   "file_extension": ".py",
   "mimetype": "text/x-python",
   "name": "python",
   "nbconvert_exporter": "python",
   "pygments_lexer": "ipython3",
   "version": "3.9.13"
  },
  "orig_nbformat": 4,
  "vscode": {
   "interpreter": {
    "hash": "9dbf8f4c165eb0b71c72ee397a4a34a0cbf4814bae4fb3ea460f3ccc58581f59"
   }
  }
 },
 "nbformat": 4,
 "nbformat_minor": 2
}
