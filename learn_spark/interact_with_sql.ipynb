{
 "cells": [
  {
   "attachments": {},
   "cell_type": "markdown",
   "metadata": {},
   "source": [
    "### Importing Libraries"
   ]
  },
  {
   "cell_type": "code",
   "execution_count": 40,
   "metadata": {},
   "outputs": [],
   "source": [
    "from pyspark.sql import SparkSession, Row\n",
    "from pyspark.sql.functions import col, filter, translate\n",
    "from pyspark.sql.types import StringType, IntegerType"
   ]
  },
  {
   "cell_type": "code",
   "execution_count": 41,
   "metadata": {},
   "outputs": [],
   "source": [
    "spark = SparkSession.builder.getOrCreate()"
   ]
  },
  {
   "cell_type": "code",
   "execution_count": 42,
   "metadata": {},
   "outputs": [
    {
     "name": "stdout",
     "output_type": "stream",
     "text": [
      "+--------+\n",
      "|test_col|\n",
      "+--------+\n",
      "|test_val|\n",
      "|test_val|\n",
      "|test_val|\n",
      "|test_val|\n",
      "|test_val|\n",
      "|test_val|\n",
      "|test_val|\n",
      "|test_val|\n",
      "|test_val|\n",
      "|test_val|\n",
      "|test_val|\n",
      "|test_val|\n",
      "|test_val|\n",
      "|test_val|\n",
      "|test_val|\n",
      "|test_val|\n",
      "|test_val|\n",
      "|test_val|\n",
      "|test_val|\n",
      "|test_val|\n",
      "+--------+\n",
      "only showing top 20 rows\n",
      "\n"
     ]
    }
   ],
   "source": [
    "my_list = []\n",
    "i = 0\n",
    "while i<=1000:\n",
    "    my_list.append(Row(test_col=\"test_val\"))    \n",
    "    i+=1\n",
    "\n",
    "spark.createDataFrame(my_list , ['test_col']).show(truncate=False)"
   ]
  }
 ],
 "metadata": {
  "kernelspec": {
   "display_name": "base",
   "language": "python",
   "name": "python3"
  },
  "language_info": {
   "codemirror_mode": {
    "name": "ipython",
    "version": 3
   },
   "file_extension": ".py",
   "mimetype": "text/x-python",
   "name": "python",
   "nbconvert_exporter": "python",
   "pygments_lexer": "ipython3",
   "version": "3.9.13"
  },
  "orig_nbformat": 4
 },
 "nbformat": 4,
 "nbformat_minor": 2
}
