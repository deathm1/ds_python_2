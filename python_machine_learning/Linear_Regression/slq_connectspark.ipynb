{
 "cells": [
  {
   "cell_type": "code",
   "execution_count": 59,
   "metadata": {},
   "outputs": [],
   "source": [
    "import pyodbc\n",
    "from pyspark.sql import *\n",
    "from pyspark.sql.functions import *\n",
    "from pyspark.sql.types import *\n",
    "from datetime import datetime\n",
    "spark = SparkSession.builder.getOrCreate()\n",
    "connection_string = (\n",
    "    r'Driver={ODBC Driver 18 for SQL Server};'\n",
    "    r'Server=localhost;'\n",
    "    r'Database=DATA_WAREHOUSE;'\n",
    "    r'Trusted_Connection=yes;'\n",
    "    r'TrustServerCertificate=yes;'\n",
    ")\n",
    "\n",
    "my_odbc_connection = pyodbc.connect(connection_string)\n",
    "\n",
    "my_odbc_cursor = my_odbc_connection.cursor()\n",
    "\n",
    "# my_odbc_cursor.execute(\"SELECT * FROM [DATA_WAREHOUSE].[STANDALONE_DATASETS].[MARKETING_WAR];\")\n",
    "\n",
    "my_insert_query = f\"\"\"INSERT INTO [STANDALONE_DATASETS].[MARKETING_WAR]\n",
    "           ([visitors]\n",
    "           ,[revenue]\n",
    "           ,[marketing_spend]\n",
    "           ,[promotion]\n",
    "           ,[present_date]\n",
    "           ,[present_day_name]\n",
    "           ,[present_week_number]\n",
    "           ,[present_week_id]\n",
    "           ,[present_month_number]\n",
    "           ,[present_month_id]\n",
    "           ,[present_year]\n",
    "           ,[created_by]\n",
    "           ,[created_date]\n",
    "           ,[updated_by]\n",
    "           ,[updated_date])VALUES(?,?,?,?,?,?,?,?,?,?,?,?,?,?,?);\"\"\"\n",
    "\n"
   ]
  },
  {
   "cell_type": "code",
   "execution_count": 60,
   "metadata": {},
   "outputs": [],
   "source": [
    "my_marketing_df = spark.read.option('header', True).csv(\"./marketing_war_data.csv\").na.drop(subset=[\"Week\"])"
   ]
  },
  {
   "cell_type": "code",
   "execution_count": 61,
   "metadata": {},
   "outputs": [],
   "source": [
    "my_update_query_list = []\n",
    "\n",
    "for current_entry in my_marketing_df.collect():\n",
    "    Date = datetime.strptime(current_entry[\"Date\"], \"%d-%m-%Y\")\n",
    "    my_update_query_list.append(\n",
    "        (\n",
    "            int(current_entry[\"Visitors\"]),\n",
    "            int(current_entry[\"Revenue\"]),\n",
    "            float(current_entry[\"Marketing Spend\"]),\n",
    "            str(current_entry[\"Promo\"]).lower().title(),\n",
    "            Date,\n",
    "            str(current_entry[\"Day_Name\"]).lower().title(),\n",
    "            int(current_entry[\"Week\"]),\n",
    "            int(current_entry[\"Week_ID\"]),\n",
    "            int(current_entry[\"Month\"]),\n",
    "            int(current_entry[\"Month_ID\"]),\n",
    "            int(current_entry[\"Year\"]),\n",
    "            \"MANUAL_LOAD\",\n",
    "            datetime.now(),\n",
    "            \"MANUAL_LOAD\",\n",
    "            datetime.now(),\n",
    "        )\n",
    "    )\n",
    "\n",
    "my_odbc_cursor.executemany(my_insert_query, my_update_query_list)\n",
    "my_odbc_cursor.commit()"
   ]
  }
 ],
 "metadata": {
  "kernelspec": {
   "display_name": "base",
   "language": "python",
   "name": "python3"
  },
  "language_info": {
   "codemirror_mode": {
    "name": "ipython",
    "version": 3
   },
   "file_extension": ".py",
   "mimetype": "text/x-python",
   "name": "python",
   "nbconvert_exporter": "python",
   "pygments_lexer": "ipython3",
   "version": "3.9.13"
  },
  "orig_nbformat": 4
 },
 "nbformat": 4,
 "nbformat_minor": 2
}
