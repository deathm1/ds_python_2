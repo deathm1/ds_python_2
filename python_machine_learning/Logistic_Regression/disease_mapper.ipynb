{
 "cells": [
  {
   "cell_type": "code",
   "execution_count": 39,
   "metadata": {},
   "outputs": [],
   "source": [
    "from pyspark.sql import SQLContext, types, SparkSession\n",
    "from pyspark.sql.functions import *\n",
    "import pandas as pd\n",
    "from sklearn.linear_model import LogisticRegression\n",
    "from sklearn.metrics import confusion_matrix, f1_score, precision_score, recall_score, accuracy_score\n",
    "from sklearn.model_selection import train_test_split\n",
    "import seaborn as sns\n",
    "import re\n",
    "spark = SparkSession.builder.getOrCreate()\n",
    "spark.conf.set('spark.sql.repl.eagerEval.enabled', True)"
   ]
  },
  {
   "attachments": {},
   "cell_type": "markdown",
   "metadata": {},
   "source": [
    "## loading dataframe"
   ]
  },
  {
   "cell_type": "code",
   "execution_count": 40,
   "metadata": {},
   "outputs": [
    {
     "name": "stdout",
     "output_type": "stream",
     "text": [
      "root\n",
      " |-- name: string (nullable = true)\n",
      " |-- categories: string (nullable = true)\n",
      "\n"
     ]
    }
   ],
   "source": [
    "my_mapping_dataframe = spark.read.option('header', True).csv(\"df_diseases_new.csv\")\n",
    "my_mapping_dataframe.printSchema()"
   ]
  },
  {
   "attachments": {},
   "cell_type": "markdown",
   "metadata": {},
   "source": [
    "# Cleaning data"
   ]
  },
  {
   "cell_type": "code",
   "execution_count": 41,
   "metadata": {},
   "outputs": [],
   "source": [
    "my_mapping_dataframe = my_mapping_dataframe.withColumn(\"name\", regexp_replace(trim(lower(col(\"name\"))), \"[ ](?=[ ])|[^-_,A-Za-z0-9 ]+\", \"\"))\n",
    "my_mapping_dataframe = my_mapping_dataframe.withColumn(\"categories\", regexp_replace(trim(lower(col(\"categories\"))), \"[ ](?=[ ])|[^-_,A-Za-z0-9 ]+\", \"\"))\n",
    "\n",
    "my_mapping_dataframe = my_mapping_dataframe.withColumn(\"categories\", when(col(\"categories\") == \"category 1\", 0)\n",
    ".when(col(\"categories\") == \"category 2\", 1)\n",
    ".when(col(\"categories\") == \"category 3\", 2)\n",
    ".when(col(\"categories\") == \"category 4\", 3)                                                       \n",
    ")"
   ]
  },
  {
   "attachments": {},
   "cell_type": "markdown",
   "metadata": {},
   "source": [
    "# Splitting the data into x's an y's"
   ]
  },
  {
   "cell_type": "code",
   "execution_count": 44,
   "metadata": {},
   "outputs": [],
   "source": [
    "X = my_mapping_dataframe.drop(\"categories\").toPandas()\n",
    "X = pd.get_dummies(X, columns=[\"name\"])\n",
    "cols=[]\n",
    "for column in X.columns:\n",
    "    new_column = str(column)\n",
    "    new_column = re.sub('[\\W_]+', ' ', new_column).strip().replace(\" \",\"_\").lower()\n",
    "    cols.append(new_column)\n",
    "\n",
    "\n",
    "X.columns = cols\n",
    "y = my_mapping_dataframe.drop(\"name\").toPandas()\n"
   ]
  },
  {
   "attachments": {},
   "cell_type": "markdown",
   "metadata": {},
   "source": [
    "# Test Train split"
   ]
  },
  {
   "cell_type": "code",
   "execution_count": 45,
   "metadata": {},
   "outputs": [],
   "source": [
    "X_train, X_test, y_train, y_test = train_test_split(X, y, test_size=0.2, train_size=0.8, random_state=15)\n",
    "\n"
   ]
  }
 ],
 "metadata": {
  "kernelspec": {
   "display_name": "base",
   "language": "python",
   "name": "python3"
  },
  "language_info": {
   "codemirror_mode": {
    "name": "ipython",
    "version": 3
   },
   "file_extension": ".py",
   "mimetype": "text/x-python",
   "name": "python",
   "nbconvert_exporter": "python",
   "pygments_lexer": "ipython3",
   "version": "3.9.13"
  },
  "orig_nbformat": 4,
  "vscode": {
   "interpreter": {
    "hash": "ad2bdc8ecc057115af97d19610ffacc2b4e99fae6737bb82f5d7fb13d2f2c186"
   }
  }
 },
 "nbformat": 4,
 "nbformat_minor": 2
}
