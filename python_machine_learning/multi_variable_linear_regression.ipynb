{
 "cells": [
  {
   "cell_type": "code",
   "execution_count": 6,
   "metadata": {},
   "outputs": [],
   "source": [
    "import pandas as pd\n",
    "import numpy as np\n",
    "import matplotlib.pyplot as plt\n",
    "\n",
    "from sklearn.linear_model import LinearRegression\n",
    "from mpl_toolkits.mplot3d import axes3d\n",
    "import seaborn as sns\n",
    "sns.set_context('notebook')\n",
    "sns.set_style('white')"
   ]
  },
  {
   "cell_type": "code",
   "execution_count": 7,
   "metadata": {},
   "outputs": [],
   "source": [
    "my_data = np.loadtxt(\"./coursera_ex_1/ex1data2.txt\", delimiter=\",\")\n",
    "X = np.c_[np.ones(my_data.shape[0]), my_data[:,[0,1]]]\n",
    "y = np.c_[my_data[:,2]]"
   ]
  },
  {
   "cell_type": "code",
   "execution_count": 8,
   "metadata": {},
   "outputs": [
    {
     "name": "stdout",
     "output_type": "stream",
     "text": [
      "[[399900.]\n",
      " [329900.]\n",
      " [369000.]\n",
      " [232000.]\n",
      " [539900.]\n",
      " [299900.]\n",
      " [314900.]\n",
      " [198999.]\n",
      " [212000.]\n",
      " [242500.]\n",
      " [239999.]\n",
      " [347000.]\n",
      " [329999.]\n",
      " [699900.]\n",
      " [259900.]\n",
      " [449900.]\n",
      " [299900.]\n",
      " [199900.]\n",
      " [499998.]\n",
      " [599000.]\n",
      " [252900.]\n",
      " [255000.]\n",
      " [242900.]\n",
      " [259900.]\n",
      " [573900.]\n",
      " [249900.]\n",
      " [464500.]\n",
      " [469000.]\n",
      " [475000.]\n",
      " [299900.]\n",
      " [349900.]\n",
      " [169900.]\n",
      " [314900.]\n",
      " [579900.]\n",
      " [285900.]\n",
      " [249900.]\n",
      " [229900.]\n",
      " [345000.]\n",
      " [549000.]\n",
      " [287000.]\n",
      " [368500.]\n",
      " [329900.]\n",
      " [314000.]\n",
      " [299000.]\n",
      " [179900.]\n",
      " [299900.]\n",
      " [239500.]]\n"
     ]
    }
   ],
   "source": []
  }
 ],
 "metadata": {
  "kernelspec": {
   "display_name": "Python 3",
   "language": "python",
   "name": "python3"
  },
  "language_info": {
   "codemirror_mode": {
    "name": "ipython",
    "version": 3
   },
   "file_extension": ".py",
   "mimetype": "text/x-python",
   "name": "python",
   "nbconvert_exporter": "python",
   "pygments_lexer": "ipython3",
   "version": "3.10.6"
  },
  "orig_nbformat": 4,
  "vscode": {
   "interpreter": {
    "hash": "916dbcbb3f70747c44a77c7bcd40155683ae19c65e1c03b4aa3499c5328201f1"
   }
  }
 },
 "nbformat": 4,
 "nbformat_minor": 2
}
