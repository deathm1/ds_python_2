{
 "cells": [
  {
   "cell_type": "code",
   "execution_count": 2,
   "metadata": {},
   "outputs": [],
   "source": [
    "from pyspark.sql import *\n",
    "from pyspark.sql.functions import *\n",
    "from pyspark.sql.types import *\n",
    "# import pandas as pd\n",
    "import re"
   ]
  },
  {
   "cell_type": "code",
   "execution_count": 3,
   "metadata": {},
   "outputs": [],
   "source": [
    "spark = SparkSession.builder.appName('SparkByExamples.com').getOrCreate()\n"
   ]
  },
  {
   "cell_type": "code",
   "execution_count": 4,
   "metadata": {},
   "outputs": [],
   "source": [
    "my_input_data = spark.read.option('header', True).csv(\"./disease_symptoms.csv\")\n",
    "\n",
    "for column in my_input_data.columns:\n",
    "    new_col = re.sub(r'[^A-Za-z0-9 ]+', '', str(column))\n",
    "    my_input_data = my_input_data.withColumnRenamed(column, new_col)"
   ]
  },
  {
   "attachments": {},
   "cell_type": "markdown",
   "metadata": {},
   "source": [
    "### My Custom Value Processor"
   ]
  },
  {
   "cell_type": "code",
   "execution_count": 5,
   "metadata": {},
   "outputs": [],
   "source": [
    "def upperCase(str):\n",
    "    return str.upper()\n",
    "\n",
    "\n",
    "upperCaseUDF = udf(lambda x:upperCase(x),StringType())"
   ]
  },
  {
   "cell_type": "code",
   "execution_count": 7,
   "metadata": {},
   "outputs": [
    {
     "name": "stdout",
     "output_type": "stream",
     "text": [
      "root\n",
      " |-- Code: string (nullable = true)\n",
      " |-- name: string (nullable = true)\n",
      " |-- symptoms: string (nullable = true)\n",
      " |-- Desc: string (nullable = true)\n",
      " |-- commonTestsAndProceduresDesc: string (nullable = true)\n",
      " |-- commonTestsAndProcedures: string (nullable = true)\n",
      " |-- commonMedicationsDesc: string (nullable = true)\n",
      " |-- commonMedications: string (nullable = true)\n",
      " |-- whoIsAtRiskDesc: string (nullable = true)\n",
      " |-- symptomsDesc: string (nullable = true)\n",
      "\n"
     ]
    }
   ],
   "source": [
    "# for column in my_input_data.columns:\n",
    "#     my_input_data = my_input_data.withColumn(column, my_custom_function(col(column)))\n",
    "my_input_data.printSchema()\n",
    "\n",
    "          \n"
   ]
  }
 ],
 "metadata": {
  "kernelspec": {
   "display_name": "base",
   "language": "python",
   "name": "python3"
  },
  "language_info": {
   "codemirror_mode": {
    "name": "ipython",
    "version": 3
   },
   "file_extension": ".py",
   "mimetype": "text/x-python",
   "name": "python",
   "nbconvert_exporter": "python",
   "pygments_lexer": "ipython3",
   "version": "3.11.2"
  },
  "orig_nbformat": 4
 },
 "nbformat": 4,
 "nbformat_minor": 2
}
