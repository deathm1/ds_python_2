{
 "cells": [
  {
   "cell_type": "code",
   "execution_count": 208,
   "metadata": {},
   "outputs": [],
   "source": [
    "from pyspark.sql import *\n",
    "from pyspark.sql.functions import *\n",
    "from pyspark.sql.types import *\n",
    "# import pandas as pd\n",
    "import re\n",
    "import json"
   ]
  },
  {
   "cell_type": "code",
   "execution_count": 209,
   "metadata": {},
   "outputs": [],
   "source": [
    "spark = SparkSession.builder.getOrCreate()\n"
   ]
  },
  {
   "cell_type": "code",
   "execution_count": 210,
   "metadata": {},
   "outputs": [],
   "source": [
    "my_input_data = spark.read.option('header', True).csv(\"./disease_symptoms.csv\")\n",
    "\n",
    "for column in my_input_data.columns:\n",
    "    new_col = re.sub(r'[^A-Za-z0-9 ]+', '', str(column))\n",
    "    my_input_data = my_input_data.withColumnRenamed(column, new_col)"
   ]
  },
  {
   "attachments": {},
   "cell_type": "markdown",
   "metadata": {},
   "source": [
    "### My Custom Value Processor"
   ]
  },
  {
   "cell_type": "code",
   "execution_count": 211,
   "metadata": {},
   "outputs": [],
   "source": [
    "def value_processor(input_string : str):\n",
    "    new_val = re.sub(r'[^A-Za-z0-9 \"{}:]+', '', str(input_string))\n",
    "    return new_val\n",
    "\n",
    "def de_jsonify(input_string : str):\n",
    "    out = \"\"\n",
    "    try:\n",
    "        out = json.loads(input_string)[\"symptoms\"]\n",
    "    except:\n",
    "        out = re.sub(r'[^A-Za-z0-9 \"{}:]+', '', str(input_string)).replace(\"symptoms\", \"\")\n",
    "\n",
    "\n",
    "    return out\n",
    "\n",
    "\n",
    "custom_value_processor = udf(lambda x:value_processor(x),StringType())\n",
    "custom_de_jsonifier = udf(lambda x:de_jsonify(x),StringType())"
   ]
  },
  {
   "cell_type": "code",
   "execution_count": 212,
   "metadata": {},
   "outputs": [
    {
     "name": "stdout",
     "output_type": "stream",
     "text": [
      "+----------------------------------+---------------------------+--------------------------------+--------------------------------+--------------------------------+\n",
      "|disease_symptoms                  |common_tests_and_procedures|common_medication               |who_is_at_risk                  |disease_name                    |\n",
      "+----------------------------------+---------------------------+--------------------------------+--------------------------------+--------------------------------+\n",
      "|Anxiety and nervousness           |Depression                 |Shortness of breath             |Depressive or psychotic symptoms|Panic disorder                  |\n",
      "|Hoarse voice                      |Sore throat                |Difficulty speaking             |Cough                           |Vocal cord polyp                |\n",
      "|Groin mass                        |Leg pain                   |Hip pain                        |Suprapubic pain                 |Turner syndrome                 |\n",
      "|Symptoms of the scrotum and testes|Swelling of scrotum        |Pain in testicles               |Flatulence                      |Cryptorchidism                  |\n",
      "|Abusing alcohol                   |Fainting                   |Hostile behavior                |Drug abuse                      |Poisoning due to ethylene glycol|\n",
      "|Vaginal itching                   |Vaginal dryness            |Painful urination               |Involuntary urination           |Atrophic vaginitis              |\n",
      "|Hand or finger pain               |Wrist pain                 |Hand or finger swelling         |Arm pain                        |Fracture of the hand            |\n",
      "|Lip swelling                      |Sore throat                |Toothache                       |Abnormal appearing skin         |Cellulitis or abscess of mouth  |\n",
      "|Eye deviation                     |Diminished vision          |Double vision                   |Crosseyed                       |Eye alignment disorder          |\n",
      "|Headache                          |Nausea                     |Back pain                       |Vomiting                        |Headache after lumbar puncture  |\n",
      "|Vomiting                          |Sharp abdominal pain       |Infant spitting up              |Vomiting blood                  |Pyloric stenosis                |\n",
      "|Sore throat                       |Peripheral edema           |Neck mass                       |Ear pain                        |Salivary gland disorder         |\n",
      "|Knee pain                         |Foot or toe pain           |Bowlegged or knockkneed         |Ankle pain                      |Osteochondrosis                 |\n",
      "|Knee pain                         |Knee swelling              |Leg pain                        |Problems with movement          |Injury to the knee              |\n",
      "|Weight gain                       |Jaundice                   |Mouth dryness                   |Muscle pain                     |Metabolic disorder              |\n",
      "|Vaginal discharge                 |Vaginal itching            |Sharp abdominal pain            |Painful urination               |Vaginitis                       |\n",
      "|Dizziness                         |Sharp chest pain           |Shortness of breath             |Palpitations                    |Sick sinus syndrome             |\n",
      "|Ringing in ear                    |Diminished hearing         |Dizziness                       |Ear pain                        |Tinnitus of unknown cause       |\n",
      "|Diminished vision                 |Pain in eye                |Symptoms of eye                 |Spots or clouds in vision       |Glaucoma                        |\n",
      "|Depression                        |Anxiety and nervousness    |Depressive or psychotic symptoms|Decreased appetite              |Eating disorder                 |\n",
      "+----------------------------------+---------------------------+--------------------------------+--------------------------------+--------------------------------+\n",
      "only showing top 20 rows\n",
      "\n"
     ]
    }
   ],
   "source": [
    "for column in my_input_data.columns:\n",
    "    my_input_data = my_input_data.withColumn(column, custom_value_processor(col(column)))\n",
    "my_input_data = my_input_data.select(\n",
    "    custom_de_jsonifier(col(\"symptoms\")).alias(\"disease_symptoms\"), \n",
    "    custom_de_jsonifier(col(\"commonTestsAndProceduresDesc\")).alias(\"common_tests_and_procedures\"), \n",
    "    custom_de_jsonifier(col(\"commonMedicationsDesc\")).alias(\"common_medication\"), \n",
    "    custom_de_jsonifier(col(\"whoIsAtRiskDesc\")).alias(\"who_is_at_risk\"),\n",
    "    col(\"name\").alias(\"disease_name\")\n",
    ")\n",
    "my_input_data.show(truncate=False)\n",
    "# for row in my_input_data.collect():\n",
    "#     print(row[\"whoIsAtRiskDesc\"])"
   ]
  }
 ],
 "metadata": {
  "kernelspec": {
   "display_name": "base",
   "language": "python",
   "name": "python3"
  },
  "language_info": {
   "codemirror_mode": {
    "name": "ipython",
    "version": 3
   },
   "file_extension": ".py",
   "mimetype": "text/x-python",
   "name": "python",
   "nbconvert_exporter": "python",
   "pygments_lexer": "ipython3",
   "version": "3.9.13"
  },
  "orig_nbformat": 4
 },
 "nbformat": 4,
 "nbformat_minor": 2
}
