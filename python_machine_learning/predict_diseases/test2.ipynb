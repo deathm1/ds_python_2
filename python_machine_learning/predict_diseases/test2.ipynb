{
 "cells": [
  {
   "cell_type": "code",
   "execution_count": 6,
   "metadata": {},
   "outputs": [
    {
     "name": "stdout",
     "output_type": "stream",
     "text": [
      "['wow']\n"
     ]
    }
   ],
   "source": [
    "dict = {\"hi\": (100, 200), \"wow\": (2000,100), \"nm\": (100, 10)}\n",
    "keys = dict.keys()\n",
    "num = 10\n",
    "values_greater_than_a_certain_number = []\n",
    "\n",
    "for current_key in keys:\n",
    "    get_tuple = dict[current_key]\n",
    "    divide = get_tuple[0]/get_tuple[1]\n",
    "    if(divide>num):\n",
    "        values_greater_than_a_certain_number.append(current_key)\n",
    "\n",
    "print(values_greater_than_a_certain_number)"
   ]
  },
  {
   "cell_type": "code",
   "execution_count": 10,
   "metadata": {},
   "outputs": [
    {
     "name": "stdout",
     "output_type": "stream",
     "text": [
      "Incorrect Date\n"
     ]
    }
   ],
   "source": [
    "from datetime import datetime\n",
    "try:\n",
    "    Format = datetime.strptime(\"23/23/2023\", '%m/%d/%Y')\n",
    "    print(Format)\n",
    "except ValueError:\n",
    "    print(\"Incorrect Date\")\n",
    "\n"
   ]
  }
 ],
 "metadata": {
  "kernelspec": {
   "display_name": "base",
   "language": "python",
   "name": "python3"
  },
  "language_info": {
   "codemirror_mode": {
    "name": "ipython",
    "version": 3
   },
   "file_extension": ".py",
   "mimetype": "text/x-python",
   "name": "python",
   "nbconvert_exporter": "python",
   "pygments_lexer": "ipython3",
   "version": "3.9.13"
  },
  "orig_nbformat": 4
 },
 "nbformat": 4,
 "nbformat_minor": 2
}
